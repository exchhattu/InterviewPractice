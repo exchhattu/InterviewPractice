{
 "cells": [
  {
   "cell_type": "code",
   "execution_count": 1,
   "metadata": {},
   "outputs": [],
   "source": [
    "import pandas as pd\n",
    "import numpy as np\n",
    "from numpy.random import randint\n",
    "\n",
    "class LReg:\n",
    "    \n",
    "    \n",
    "    def __init__(self):\n",
    "        self._df_usa_house = pd.DataFrame()\n",
    "        self._x_num_cols = ['Avg. Area Income', 'Avg. Area House Age', 'Avg. Area Number of Rooms', \\\n",
    "                            'Avg. Area Number of Bedrooms', 'Area Population']\n",
    "        self._y_num_cols = ['Price']\n",
    "    \n",
    "    def load_data(self, path_to_file):\n",
    "        self._df_usa_house = pd.read_csv(path_to_file)\n",
    "        self._df_usa_house = self._df_usa_house.select_dtypes(include=np.number)\n",
    "    \n",
    "    def split_data(self, ratio=\"8:2\"):\n",
    "        parts = ratio.split(\":\")\n",
    "        \n",
    "        train_part = int(((self._df_usa_house.shape[0] * int(parts[0]))/10.00))\n",
    "        \n",
    "        idxes = np.arange(self._df_usa_house.shape[0])\n",
    "        np.random.shuffle(idxes)\n",
    "        \n",
    "        self._train_data = self._df_usa_house.iloc[idxes[:train_part]]\n",
    "        self._test_data = self._df_usa_house.iloc[idxes[train_part:]]\n",
    "        # print(self._test_data)\n",
    "        X_train = self._train_data[self._x_num_cols].to_numpy() \n",
    "        y_train = self._train_data[self._y_num_cols].to_numpy()\n",
    "        \n",
    "        X_test = self._test_data[self._x_num_cols].to_numpy()\n",
    "        y_test = self._test_data[self._y_num_cols].to_numpy()\n",
    "        \n",
    "        return X_train, X_test, y_train, y_test\n",
    "    \n",
    "    def fit(self, X_train, y_train):\n",
    "        p_mat = np.linalg.inv(X_train.T.dot(X_train)).dot(X_train.T).dot(y_train)\n",
    "        \n",
    "        # a = np.dot(np.linalg.inv(X_train.T, X_train), X_train.T)\n",
    "        print(p_mat.shape)\n",
    "        # print(a.dot().dot(y_train))\n",
    "        self._weight = np.linalg.inv(X_train.T.dot(X_train)).dot(X_train.T).dot(y_train)\n",
    "        # np.ligalg.solve(np.dot(X_train.T, X_train))\n",
    "\n",
    "    def predict(self, X_test, y_test):\n",
    "        mse = np.mean((np.dot(X_test, self._weight) - y_test)**2)\n",
    "        mae = np.mean(np.abs(np.dot(X_test, self._weight) - y_test))\n",
    "        print(\"MSE: \", mse)\n",
    "        print(\"MAE: \", mae)\n",
    "        \n",
    "        \n",
    "    "
   ]
  },
  {
   "cell_type": "code",
   "execution_count": 2,
   "metadata": {},
   "outputs": [
    {
     "name": "stdout",
     "output_type": "stream",
     "text": [
      "(4000, 5) (1000, 5) (4000, 1) (1000, 1)\n",
      "(5, 1)\n",
      "MSE:  62472392812.92868\n",
      "MAE:  197813.13716511527\n"
     ]
    }
   ],
   "source": [
    "LR = LReg() \n",
    "LR.load_data(\"./data/USA_Housing.csv\")\n",
    "X_train, X_test, y_train, y_test = LR.split_data()\n",
    "print(X_train.shape, X_test.shape, y_train.shape, y_test.shape)\n",
    "LR.fit(X_train, y_train)\n",
    "LR.predict(X_test, y_test)"
   ]
  },
  {
   "cell_type": "code",
   "execution_count": null,
   "metadata": {},
   "outputs": [],
   "source": []
  },
  {
   "cell_type": "code",
   "execution_count": null,
   "metadata": {},
   "outputs": [],
   "source": []
  }
 ],
 "metadata": {
  "kernelspec": {
   "display_name": "Python 3",
   "language": "python",
   "name": "python3"
  },
  "language_info": {
   "codemirror_mode": {
    "name": "ipython",
    "version": 3
   },
   "file_extension": ".py",
   "mimetype": "text/x-python",
   "name": "python",
   "nbconvert_exporter": "python",
   "pygments_lexer": "ipython3",
   "version": "3.7.5"
  }
 },
 "nbformat": 4,
 "nbformat_minor": 2
}
