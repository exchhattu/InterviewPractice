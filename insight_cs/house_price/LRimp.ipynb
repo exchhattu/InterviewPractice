{
 "cells": [
  {
   "cell_type": "code",
   "execution_count": 39,
   "metadata": {},
   "outputs": [],
   "source": [
    "import pandas as pd\n",
    "import numpy as np\n",
    "from numpy.random import randint\n",
    "\n",
    "class LReg:\n",
    "    \n",
    "    \n",
    "    def __init__(self):\n",
    "        self._df_usa_house = pd.DataFrame()\n",
    "        self._x_num_cols = ['Avg. Area Income', 'Avg. Area House Age', 'Avg. Area Number of Rooms', \\\n",
    "                            'Avg. Area Number of Bedrooms', 'Area Population']\n",
    "        self._y_num_cols = ['Price']\n",
    "    \n",
    "    def load_data(self, path_to_file):\n",
    "        self._df_usa_house = pd.read_csv(path_to_file)\n",
    "        self._df_usa_house = self._df_usa_house.select_dtypes(include=np.number)\n",
    "    \n",
    "    def split_data(self, ratio=\"8:2\"):\n",
    "        parts = ratio.split(\":\")\n",
    "        \n",
    "        train_part = int(((self._df_usa_house.shape[0] * int(parts[0]))/10.00))\n",
    "        \n",
    "        idxes = np.arange(self._df_usa_house.shape[0])\n",
    "        np.random.shuffle(idxes)\n",
    "        \n",
    "        self._train_data = self._df_usa_house.iloc[idxes[:train_part]]\n",
    "        self._test_data = self._df_usa_house.iloc[idxes[train_part:]]\n",
    "        print(self._test_data)\n",
    "        X_train = self._train_data[self._x_num_cols].to_numpy()           \n",
    "        X_test = self._test_data[self._x_num_cols].to_numpy()\n",
    "                            \n",
    "        y_train = self._train_data[self._y_num_cols].to_numpy()\n",
    "        y_test = self._test_data[self._y_num_cols].to_numpy()\n",
    "        \n",
    "        return X_train, X_test, y_train, y_test\n",
    "    \n",
    "    def fit(self, X_train, y_train):\n",
    "        a = np.dot(np.linalg.inv(X_train.T, X_train), X_train.T)\n",
    "        print(a.shape)\n",
    "        # print(a.dot().dot(y_train))\n",
    "        self._weight = np.linalg.inv(X_train.T.dot(X_train)).dot(X_train.T).dot(y_train)\n",
    "        # np.ligalg.solve(np.dot(X_train.T, X_train))\n",
    "\n",
    "    def predict(self, X_test, y_test):\n",
    "        self._mse = np.mean((np.dot(X_test, self._weight) - y_test)**2)\n",
    "        # mae = np.mean(np.abs(np.dot(X_test, self._weight) - y_test))\n",
    "        \n",
    "    "
   ]
  },
  {
   "cell_type": "code",
   "execution_count": 40,
   "metadata": {},
   "outputs": [
    {
     "name": "stdout",
     "output_type": "stream",
     "text": [
      "      Avg. Area Income  Avg. Area House Age  Avg. Area Number of Rooms  \\\n",
      "4247      80980.260573             5.428227                   6.678788   \n",
      "938       73587.046463             5.944492                   6.530147   \n",
      "3731      83623.397255             5.847766                   9.174510   \n",
      "534       70243.435121             6.210271                   6.363084   \n",
      "3444      65935.575609             6.389014                   6.413906   \n",
      "...                ...                  ...                        ...   \n",
      "3956      60297.703331             6.577468                   7.248682   \n",
      "1611      77106.500123             7.123866                   5.832412   \n",
      "1664      64661.930276             4.656696                   5.660253   \n",
      "3017      71816.276426             5.494488                   8.629268   \n",
      "4193      75245.465436             8.167820                   7.420100   \n",
      "\n",
      "      Avg. Area Number of Bedrooms  Area Population         Price  \n",
      "4247                          3.38     37340.982944  1.416648e+06  \n",
      "938                           2.30     25271.930975  1.064510e+06  \n",
      "3731                          5.04     42329.334838  1.845325e+06  \n",
      "534                           2.13     24647.905909  9.937252e+05  \n",
      "3444                          4.20     15217.774154  7.980739e+05  \n",
      "...                            ...              ...           ...  \n",
      "3956                          6.37     33621.460620  1.243748e+06  \n",
      "1611                          2.28     36215.159424  1.426832e+06  \n",
      "1664                          2.44     49457.179373  8.759045e+05  \n",
      "3017                          6.27     41178.261192  1.607864e+06  \n",
      "4193                          3.42     37410.669928  1.562887e+06  \n",
      "\n",
      "[1000 rows x 6 columns]\n",
      "(4000, 5) (1000, 5) (4000, 1) (1000, 1)\n"
     ]
    },
    {
     "ename": "TypeError",
     "evalue": "_unary_dispatcher() takes 1 positional argument but 2 were given",
     "output_type": "error",
     "traceback": [
      "\u001b[0;31m---------------------------------------------------------------------------\u001b[0m",
      "\u001b[0;31mTypeError\u001b[0m                                 Traceback (most recent call last)",
      "\u001b[0;32m<ipython-input-40-db86c2ed2091>\u001b[0m in \u001b[0;36m<module>\u001b[0;34m\u001b[0m\n\u001b[1;32m      3\u001b[0m \u001b[0mX_train\u001b[0m\u001b[0;34m,\u001b[0m \u001b[0mX_test\u001b[0m\u001b[0;34m,\u001b[0m \u001b[0my_train\u001b[0m\u001b[0;34m,\u001b[0m \u001b[0my_test\u001b[0m \u001b[0;34m=\u001b[0m \u001b[0mLR\u001b[0m\u001b[0;34m.\u001b[0m\u001b[0msplit_data\u001b[0m\u001b[0;34m(\u001b[0m\u001b[0;34m)\u001b[0m\u001b[0;34m\u001b[0m\u001b[0;34m\u001b[0m\u001b[0m\n\u001b[1;32m      4\u001b[0m \u001b[0mprint\u001b[0m\u001b[0;34m(\u001b[0m\u001b[0mX_train\u001b[0m\u001b[0;34m.\u001b[0m\u001b[0mshape\u001b[0m\u001b[0;34m,\u001b[0m \u001b[0mX_test\u001b[0m\u001b[0;34m.\u001b[0m\u001b[0mshape\u001b[0m\u001b[0;34m,\u001b[0m \u001b[0my_train\u001b[0m\u001b[0;34m.\u001b[0m\u001b[0mshape\u001b[0m\u001b[0;34m,\u001b[0m \u001b[0my_test\u001b[0m\u001b[0;34m.\u001b[0m\u001b[0mshape\u001b[0m\u001b[0;34m)\u001b[0m\u001b[0;34m\u001b[0m\u001b[0;34m\u001b[0m\u001b[0m\n\u001b[0;32m----> 5\u001b[0;31m \u001b[0mLR\u001b[0m\u001b[0;34m.\u001b[0m\u001b[0mfit\u001b[0m\u001b[0;34m(\u001b[0m\u001b[0mX_train\u001b[0m\u001b[0;34m,\u001b[0m \u001b[0my_test\u001b[0m\u001b[0;34m)\u001b[0m\u001b[0;34m\u001b[0m\u001b[0;34m\u001b[0m\u001b[0m\n\u001b[0m",
      "\u001b[0;32m<ipython-input-39-1a743b081320>\u001b[0m in \u001b[0;36mfit\u001b[0;34m(self, X_train, y_train)\u001b[0m\n\u001b[1;32m     36\u001b[0m \u001b[0;34m\u001b[0m\u001b[0m\n\u001b[1;32m     37\u001b[0m     \u001b[0;32mdef\u001b[0m \u001b[0mfit\u001b[0m\u001b[0;34m(\u001b[0m\u001b[0mself\u001b[0m\u001b[0;34m,\u001b[0m \u001b[0mX_train\u001b[0m\u001b[0;34m,\u001b[0m \u001b[0my_train\u001b[0m\u001b[0;34m)\u001b[0m\u001b[0;34m:\u001b[0m\u001b[0;34m\u001b[0m\u001b[0;34m\u001b[0m\u001b[0m\n\u001b[0;32m---> 38\u001b[0;31m         \u001b[0ma\u001b[0m \u001b[0;34m=\u001b[0m \u001b[0mnp\u001b[0m\u001b[0;34m.\u001b[0m\u001b[0mdot\u001b[0m\u001b[0;34m(\u001b[0m\u001b[0mnp\u001b[0m\u001b[0;34m.\u001b[0m\u001b[0mlinalg\u001b[0m\u001b[0;34m.\u001b[0m\u001b[0minv\u001b[0m\u001b[0;34m(\u001b[0m\u001b[0mX_train\u001b[0m\u001b[0;34m.\u001b[0m\u001b[0mT\u001b[0m\u001b[0;34m,\u001b[0m \u001b[0mX_train\u001b[0m\u001b[0;34m)\u001b[0m\u001b[0;34m,\u001b[0m \u001b[0mX_train\u001b[0m\u001b[0;34m.\u001b[0m\u001b[0mT\u001b[0m\u001b[0;34m)\u001b[0m\u001b[0;34m\u001b[0m\u001b[0;34m\u001b[0m\u001b[0m\n\u001b[0m\u001b[1;32m     39\u001b[0m         \u001b[0mprint\u001b[0m\u001b[0;34m(\u001b[0m\u001b[0ma\u001b[0m\u001b[0;34m.\u001b[0m\u001b[0mshape\u001b[0m\u001b[0;34m)\u001b[0m\u001b[0;34m\u001b[0m\u001b[0;34m\u001b[0m\u001b[0m\n\u001b[1;32m     40\u001b[0m         \u001b[0;31m# print(a.dot().dot(y_train))\u001b[0m\u001b[0;34m\u001b[0m\u001b[0;34m\u001b[0m\u001b[0;34m\u001b[0m\u001b[0m\n",
      "\u001b[0;32m<__array_function__ internals>\u001b[0m in \u001b[0;36minv\u001b[0;34m(*args, **kwargs)\u001b[0m\n",
      "\u001b[0;31mTypeError\u001b[0m: _unary_dispatcher() takes 1 positional argument but 2 were given"
     ]
    }
   ],
   "source": [
    "LR = LReg() \n",
    "LR.load_data(\"./data/USA_Housing.csv\")\n",
    "X_train, X_test, y_train, y_test = LR.split_data()\n",
    "print(X_train.shape, X_test.shape, y_train.shape, y_test.shape)\n",
    "LR.fit(X_train, y_test)"
   ]
  },
  {
   "cell_type": "code",
   "execution_count": null,
   "metadata": {},
   "outputs": [],
   "source": []
  }
 ],
 "metadata": {
  "kernelspec": {
   "display_name": "Python 3",
   "language": "python",
   "name": "python3"
  },
  "language_info": {
   "codemirror_mode": {
    "name": "ipython",
    "version": 3
   },
   "file_extension": ".py",
   "mimetype": "text/x-python",
   "name": "python",
   "nbconvert_exporter": "python",
   "pygments_lexer": "ipython3",
   "version": "3.7.5"
  }
 },
 "nbformat": 4,
 "nbformat_minor": 2
}
