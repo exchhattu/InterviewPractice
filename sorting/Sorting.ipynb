{
 "cells": [
  {
   "cell_type": "markdown",
   "metadata": {},
   "source": [
    "Here are few sorting algorithms"
   ]
  },
  {
   "cell_type": "markdown",
   "metadata": {},
   "source": [
    "#### Selection sort O(n^2) complexity"
   ]
  },
  {
   "cell_type": "code",
   "execution_count": 1,
   "metadata": {},
   "outputs": [
    {
     "name": "stdout",
     "output_type": "stream",
     "text": [
      "Input:  [2103 4275 5903 9167 3488]\n",
      "Sorted:  [2103 3488 4275 5903 9167]\n",
      "---\n",
      "Input:  [1408 3394 7316 6989 3934]\n",
      "Sorted:  [1408 3394 3934 6989 7316]\n",
      "---\n",
      "Input:  [6716 8844 2048 4280 6134]\n",
      "Sorted:  [2048 4280 6134 6716 8844]\n",
      "---\n"
     ]
    }
   ],
   "source": [
    "import numpy as np\n",
    "import numpy.random as random\n",
    "\n",
    "def selection_sort(nums= []):\n",
    "    if len(nums) == 0: return []\n",
    "    \n",
    "    \n",
    "    for i, a1 in enumerate(nums):\n",
    "        min_idx = i\n",
    "        #print(nums)\n",
    "        for j in range(i+1, len(nums)):\n",
    "            if nums[min_idx] > nums[j]: \n",
    "                min_idx = j\n",
    "            #print(\"Testing \", nums[i], nums[j], nums[min_idx], i, j, min_idx)\n",
    "        #print(\"KK1 \", nums)\n",
    "        nums[i], nums[min_idx] = nums[min_idx], nums[i]\n",
    "        #print(\"KK2 \", nums)\n",
    "    return nums\n",
    "\n",
    "for i in range(3):\n",
    "    nums = random.randint(1, 10000, 5)\n",
    "    #nums = [4313, 7100, 7271, 3101, 3483]\n",
    "    print(\"Input: \", nums)\n",
    "    print(\"Sorted: \", selection_sort(nums))\n",
    "    print(\"---\")\n",
    "            "
   ]
  },
  {
   "cell_type": "markdown",
   "metadata": {},
   "source": [
    "#### Bubble sort O(n^2) complexity"
   ]
  },
  {
   "cell_type": "code",
   "execution_count": 2,
   "metadata": {},
   "outputs": [
    {
     "name": "stdout",
     "output_type": "stream",
     "text": [
      "Input:  [5611 6151 8119 3052 3475]\n",
      "Sorted:  [3052 3475 5611 6151 8119]\n",
      "---\n",
      "Input:  [4379 2986 3080 5209 5122]\n",
      "Sorted:  [2986 3080 4379 5122 5209]\n",
      "---\n",
      "Input:  [9332 1159 1153 9814 8333]\n",
      "Sorted:  [1153 1159 8333 9332 9814]\n",
      "---\n"
     ]
    }
   ],
   "source": [
    "def bubble_sort(nums = []):\n",
    "    if len(nums)==0: return []\n",
    "    \n",
    "    for i in range(len(nums)):\n",
    "        for j in range(len(nums)):\n",
    "            if nums[j] > nums[j+1]:\n",
    "                nums[j], nums[j+1] = nums[j+1], nums[j]\n",
    "    return nums\n",
    "\n",
    "for i in range(3):\n",
    "    nums = random.randint(1, 10000, 5)\n",
    "    # nums = [4313, 7100, 7271, 3101, 3483]\n",
    "    print(\"Input: \", nums)\n",
    "    print(\"Sorted: \", selection_sort(nums))\n",
    "    print(\"---\")"
   ]
  },
  {
   "cell_type": "markdown",
   "metadata": {},
   "source": [
    "#### Merge sort O(n^2) complexity"
   ]
  },
  {
   "cell_type": "code",
   "execution_count": 3,
   "metadata": {},
   "outputs": [],
   "source": [
    "def merge(nums, l, r, m):\n",
    "    # 1. make two subarrays\n",
    "    # 2. merge two subarrays in sorted array\n",
    "    # 3. If any remaining sub-array, just print it\n",
    "    \n",
    "    a1 = m - l + 1 # why these two?\n",
    "    a2 = r - m\n",
    "    le = [0] * a1\n",
    "    ri = [0] * a2\n",
    "    print(\"kk \", a1, a2, le, ri)\n",
    "    for i in range(a1): \n",
    "        le[i] = nums[l + i] \n",
    "  \n",
    "    for j in range(a2): \n",
    "        ri[j] = nums[m + 1 + j] \n",
    "\n",
    "    print(\"ss \", a1, a2, le, ri)\n",
    "    # merge two arrays\n",
    "    i,j, k = 0, 0, 1\n",
    "    while i < a1 and j<a2:\n",
    "        if le[i] <= ri[j]:\n",
    "            nums[k] = le[i]\n",
    "            i += 1\n",
    "        else:\n",
    "            nums[k] = ri[j]\n",
    "            j += 1\n",
    "        k += 1\n",
    "        \n",
    "    # still, there might some left over\n",
    "    while i < a1:\n",
    "        nums[k] = le[i]\n",
    "        i += 1\n",
    "        k += 1\n",
    "    print(k, j, a2)\n",
    "    while j < a2:\n",
    "        nums[k] = ri[j]\n",
    "        j += 1\n",
    "        k += 1"
   ]
  },
  {
   "cell_type": "code",
   "execution_count": 4,
   "metadata": {},
   "outputs": [
    {
     "name": "stdout",
     "output_type": "stream",
     "text": [
      "Input:  [10, 7, 2, 3, 13]\n",
      "merge  [10, 7, 2, 3, 13] 0 0 1\n",
      "kk  1 1 [0] [0]\n",
      "ss  1 1 [10] [7]\n",
      "3 1 1\n",
      "merge  [10, 7, 10, 3, 13] 3 3 4\n",
      "kk  1 1 [0] [0]\n",
      "ss  1 1 [3] [13]\n",
      "2 0 1\n",
      "merge  [10, 3, 13, 3, 13] 2 2 4\n",
      "kk  1 2 [0] [0, 0]\n",
      "ss  1 2 [13] [3, 13]\n",
      "3 1 2\n",
      "merge  [10, 3, 13, 13, 13] 0 1 4\n",
      "kk  2 3 [0, 0] [0, 0, 0]\n",
      "ss  2 3 [10, 3] [13, 13, 13]\n",
      "3 0 3\n"
     ]
    },
    {
     "ename": "IndexError",
     "evalue": "list assignment index out of range",
     "output_type": "error",
     "traceback": [
      "\u001b[0;31m---------------------------------------------------------------------------\u001b[0m",
      "\u001b[0;31mIndexError\u001b[0m                                Traceback (most recent call last)",
      "\u001b[0;32m<ipython-input-4-7e56f2cebe00>\u001b[0m in \u001b[0;36m<module>\u001b[0;34m\u001b[0m\n\u001b[1;32m     16\u001b[0m     \u001b[0mnums\u001b[0m \u001b[0;34m=\u001b[0m \u001b[0;34m[\u001b[0m\u001b[0;36m10\u001b[0m\u001b[0;34m,\u001b[0m \u001b[0;36m7\u001b[0m\u001b[0;34m,\u001b[0m \u001b[0;36m2\u001b[0m\u001b[0;34m,\u001b[0m \u001b[0;36m3\u001b[0m\u001b[0;34m,\u001b[0m \u001b[0;36m13\u001b[0m\u001b[0;34m]\u001b[0m\u001b[0;34m\u001b[0m\u001b[0;34m\u001b[0m\u001b[0m\n\u001b[1;32m     17\u001b[0m     \u001b[0mprint\u001b[0m\u001b[0;34m(\u001b[0m\u001b[0;34m\"Input: \"\u001b[0m\u001b[0;34m,\u001b[0m \u001b[0mnums\u001b[0m\u001b[0;34m)\u001b[0m\u001b[0;34m\u001b[0m\u001b[0;34m\u001b[0m\u001b[0m\n\u001b[0;32m---> 18\u001b[0;31m     \u001b[0mprint\u001b[0m\u001b[0;34m(\u001b[0m\u001b[0;34m\"Sorted: \"\u001b[0m\u001b[0;34m,\u001b[0m \u001b[0mmerge_sort\u001b[0m\u001b[0;34m(\u001b[0m\u001b[0mnums\u001b[0m\u001b[0;34m,\u001b[0m \u001b[0;36m0\u001b[0m\u001b[0;34m,\u001b[0m \u001b[0mlen\u001b[0m\u001b[0;34m(\u001b[0m\u001b[0mnums\u001b[0m\u001b[0;34m)\u001b[0m\u001b[0;34m-\u001b[0m\u001b[0;36m1\u001b[0m\u001b[0;34m)\u001b[0m\u001b[0;34m)\u001b[0m\u001b[0;34m\u001b[0m\u001b[0;34m\u001b[0m\u001b[0m\n\u001b[0m\u001b[1;32m     19\u001b[0m     \u001b[0mprint\u001b[0m\u001b[0;34m(\u001b[0m\u001b[0;34m\"---\"\u001b[0m\u001b[0;34m)\u001b[0m\u001b[0;34m\u001b[0m\u001b[0;34m\u001b[0m\u001b[0m\n",
      "\u001b[0;32m<ipython-input-4-7e56f2cebe00>\u001b[0m in \u001b[0;36mmerge_sort\u001b[0;34m(nums, l, r)\u001b[0m\n\u001b[1;32m      9\u001b[0m         \u001b[0;31m#print(\"righ \", m+1, r)\u001b[0m\u001b[0;34m\u001b[0m\u001b[0;34m\u001b[0m\u001b[0;34m\u001b[0m\u001b[0m\n\u001b[1;32m     10\u001b[0m         \u001b[0mprint\u001b[0m\u001b[0;34m(\u001b[0m\u001b[0;34m\"merge \"\u001b[0m\u001b[0;34m,\u001b[0m \u001b[0mnums\u001b[0m\u001b[0;34m,\u001b[0m \u001b[0ml\u001b[0m\u001b[0;34m,\u001b[0m \u001b[0mm\u001b[0m\u001b[0;34m,\u001b[0m \u001b[0mr\u001b[0m\u001b[0;34m)\u001b[0m\u001b[0;34m\u001b[0m\u001b[0;34m\u001b[0m\u001b[0m\n\u001b[0;32m---> 11\u001b[0;31m         \u001b[0mmerge\u001b[0m\u001b[0;34m(\u001b[0m\u001b[0mnums\u001b[0m\u001b[0;34m,\u001b[0m \u001b[0ml\u001b[0m\u001b[0;34m,\u001b[0m \u001b[0mr\u001b[0m\u001b[0;34m,\u001b[0m \u001b[0mm\u001b[0m\u001b[0;34m)\u001b[0m\u001b[0;34m\u001b[0m\u001b[0;34m\u001b[0m\u001b[0m\n\u001b[0m\u001b[1;32m     12\u001b[0m         \u001b[0;31m#print(nums)\u001b[0m\u001b[0;34m\u001b[0m\u001b[0;34m\u001b[0m\u001b[0;34m\u001b[0m\u001b[0m\n\u001b[1;32m     13\u001b[0m \u001b[0;34m\u001b[0m\u001b[0m\n",
      "\u001b[0;32m<ipython-input-3-1cea6c0aa7c3>\u001b[0m in \u001b[0;36mmerge\u001b[0;34m(nums, l, r, m)\u001b[0m\n\u001b[1;32m     34\u001b[0m     \u001b[0mprint\u001b[0m\u001b[0;34m(\u001b[0m\u001b[0mk\u001b[0m\u001b[0;34m,\u001b[0m \u001b[0mj\u001b[0m\u001b[0;34m,\u001b[0m \u001b[0ma2\u001b[0m\u001b[0;34m)\u001b[0m\u001b[0;34m\u001b[0m\u001b[0;34m\u001b[0m\u001b[0m\n\u001b[1;32m     35\u001b[0m     \u001b[0;32mwhile\u001b[0m \u001b[0mj\u001b[0m \u001b[0;34m<\u001b[0m \u001b[0ma2\u001b[0m\u001b[0;34m:\u001b[0m\u001b[0;34m\u001b[0m\u001b[0;34m\u001b[0m\u001b[0m\n\u001b[0;32m---> 36\u001b[0;31m         \u001b[0mnums\u001b[0m\u001b[0;34m[\u001b[0m\u001b[0mk\u001b[0m\u001b[0;34m]\u001b[0m \u001b[0;34m=\u001b[0m \u001b[0mri\u001b[0m\u001b[0;34m[\u001b[0m\u001b[0mj\u001b[0m\u001b[0;34m]\u001b[0m\u001b[0;34m\u001b[0m\u001b[0;34m\u001b[0m\u001b[0m\n\u001b[0m\u001b[1;32m     37\u001b[0m         \u001b[0mj\u001b[0m \u001b[0;34m+=\u001b[0m \u001b[0;36m1\u001b[0m\u001b[0;34m\u001b[0m\u001b[0;34m\u001b[0m\u001b[0m\n\u001b[1;32m     38\u001b[0m         \u001b[0mk\u001b[0m \u001b[0;34m+=\u001b[0m \u001b[0;36m1\u001b[0m\u001b[0;34m\u001b[0m\u001b[0;34m\u001b[0m\u001b[0m\n",
      "\u001b[0;31mIndexError\u001b[0m: list assignment index out of range"
     ]
    }
   ],
   "source": [
    "def merge_sort(nums, l, r):\n",
    "    if l<r: \n",
    "        m = (l+(r-1))//2\n",
    "        #print(\"top1 \", l, m, m+1, r)\n",
    "        #print(\"left \", l, m)\n",
    "        merge_sort(nums, l, m)\n",
    "        #print(\"midd \", l, m)\n",
    "        merge_sort(nums, m+1, r)\n",
    "        #print(\"righ \", m+1, r)\n",
    "        print(\"merge \", nums, l, m, r)\n",
    "        merge(nums, l, r, m)\n",
    "        #print(nums)\n",
    "\n",
    "for i in range(1):\n",
    "    # nums = random.randint(1, 10000, 5)\n",
    "    nums = [10, 7, 2, 3, 13]\n",
    "    print(\"Input: \", nums)\n",
    "    print(\"Sorted: \", merge_sort(nums, 0, len(nums)-1))\n",
    "    print(\"---\")"
   ]
  },
  {
   "cell_type": "code",
   "execution_count": 6,
   "metadata": {},
   "outputs": [
    {
     "name": "stdout",
     "output_type": "stream",
     "text": [
      "Given array is\n",
      "10\n",
      "7\n",
      "2\n",
      "3\n",
      "13\n",
      "\n",
      "\n",
      "Sorted array is\n",
      "2\n",
      "3\n",
      "7\n",
      "10\n",
      "13\n"
     ]
    }
   ],
   "source": [
    "def merge(arr, l, m, r): \n",
    "    n1 = m - l + 1\n",
    "    n2 = r- m \n",
    "  \n",
    "    # create temp arrays \n",
    "    L = [0] * n1\n",
    "    R = [0] * n2 \n",
    "  \n",
    "    for i in range(0 , n1): \n",
    "        L[i] = arr[l + i] \n",
    "  \n",
    "    for j in range(0 , n2): \n",
    "        R[j] = arr[m + 1 + j] \n",
    "  \n",
    "    # Merge the temp arrays back into arr[l..r] \n",
    "    i = 0     # Initial index of first subarray \n",
    "    j = 0     # Initial index of second subarray \n",
    "    k = l     # Initial index of merged subarray \n",
    "  \n",
    "    while i < n1 and j < n2 : \n",
    "        if L[i] <= R[j]: \n",
    "            arr[k] = L[i] \n",
    "            i += 1\n",
    "        else: \n",
    "            arr[k] = R[j] \n",
    "            j += 1\n",
    "        k += 1\n",
    "  \n",
    "    while i < n1: \n",
    "        arr[k] = L[i] \n",
    "        i += 1\n",
    "        k += 1\n",
    "  \n",
    "    while j < n2: \n",
    "        arr[k] = R[j] \n",
    "        j += 1\n",
    "        k += 1\n",
    "  \n",
    "def mergeSort(arr,l,r): \n",
    "    if l < r: \n",
    "        m = (l+(r-1))//2\n",
    "  \n",
    "        # Sort first and second halves \n",
    "        mergeSort(arr, l, m) \n",
    "        mergeSort(arr, m+1, r) \n",
    "        merge(arr, l, m, r) \n",
    "  \n",
    "  \n",
    "# Driver code to test above \n",
    "arr = [10, 7, 2, 3, 13]\n",
    "n = len(arr) \n",
    "print (\"Given array is\") \n",
    "for i in range(n): \n",
    "    print (\"%d\" %arr[i]), \n",
    "  \n",
    "mergeSort(arr,0,n-1) \n",
    "print (\"\\n\\nSorted array is\") \n",
    "for i in range(n): \n",
    "    print (\"%d\" %arr[i]), \n",
    "  \n",
    "# This code is contributed by Mohit Kumra "
   ]
  },
  {
   "cell_type": "markdown",
   "metadata": {},
   "source": [
    "#### Quicksort"
   ]
  },
  {
   "cell_type": "code",
   "execution_count": 28,
   "metadata": {},
   "outputs": [
    {
     "name": "stdout",
     "output_type": "stream",
     "text": [
      "left  0 pivot:  4 4 [10, 7, 2, 3, 13] [10, 7, 2, 3]\n",
      "left  0 pivot:  1 3 [2, 3, 10, 7, 13] [2]\n",
      "righ  0 pivot:  1 3 [2, 3, 10, 7, 13] [10, 7, 13]\n",
      "left  2 pivot:  2 3 [2, 3, 7, 10, 13] []\n",
      "righ  2 pivot:  2 3 [2, 3, 7, 10, 13] [10, 13]\n",
      "sort  [2, 3, 7, 10, 13]\n",
      "sort  [2, 3, 7, 10, 13]\n",
      "righ  0 pivot:  4 4 [2, 3, 7, 10, 13] []\n",
      "sort  [2, 3, 7, 10, 13]\n",
      "[2, 3, 7, 10, 13]\n"
     ]
    }
   ],
   "source": [
    "def get_pivot(nums, l, r):\n",
    "    low = l -1\n",
    "    #low = l\n",
    "    pivot = nums[r]\n",
    "    \n",
    "    for i in range(l, r):\n",
    "        # print(i, r)\n",
    "        if nums[i] < pivot:\n",
    "            low += 1\n",
    "            nums[low], nums[i] = nums[i], nums[low]\n",
    "               \n",
    "    nums[low+1], nums[r] = nums[r], nums[low+1]\n",
    "    return (low+1)\n",
    "\n",
    "def quick_sort(nums, l, r):\n",
    "    if l < r: # termination criteria \n",
    "        p = get_pivot(nums, l, r)\n",
    "        print(\"left \", l, \"pivot: \", p, r, nums, nums[l:p])\n",
    "        quick_sort(nums, l, p-1)\n",
    "        print(\"righ \", l, \"pivot: \", p, r, nums, nums[p+1:])\n",
    "        quick_sort(nums, p+1, r)\n",
    "        print(\"sort \", nums)\n",
    "    return nums\n",
    "    \n",
    "arr = [10, 7, 2, 3, 13]\n",
    "print(quick_sort(arr, 0, 4))\n",
    "    "
   ]
  },
  {
   "cell_type": "code",
   "execution_count": 35,
   "metadata": {},
   "outputs": [
    {
     "name": "stdout",
     "output_type": "stream",
     "text": [
      "[10, 7, 2, 3, 13]\n",
      "[2, 3, 7, 10, 13]\n"
     ]
    }
   ],
   "source": [
    "def insertion_sort(nums):\n",
    "    if len(nums) == 0: return []\n",
    "    \n",
    "    for i in range(0, len(nums)):\n",
    "        cur_value = nums[i]\n",
    "        \n",
    "        j = i - 1\n",
    "        while j >= 0 and nums[j] > cur_value:\n",
    "            nums[j+1] = nums[j]\n",
    "            j -= 1\n",
    "        nums[j+1] = cur_value\n",
    "    return nums\n",
    "\n",
    "arr = [10, 7, 2, 3, 13]\n",
    "print(arr)\n",
    "print(insertion_sort(arr))\n",
    "                "
   ]
  },
  {
   "cell_type": "code",
   "execution_count": 46,
   "metadata": {},
   "outputs": [],
   "source": [
    "def heapify(nums, n, i):\n",
    "    \"\"\"\n",
    "    heapify the given array based on input index\n",
    "    this compares root with its children recursively and \n",
    "    change array accordingly\n",
    "    \"\"\"\n",
    "    \n",
    "    largest = i # largest as root\n",
    "    l = 2*i + 1\n",
    "    r = 2*i + 2\n",
    "    \n",
    "    # compare left and right child with root - first check for existence\n",
    "    if l < n and nums[i] < nums[l]: largest = l\n",
    "    if r < n and nums[largest] < nums[r]: largest = r\n",
    "    \n",
    "    # if largest index is changed \n",
    "    if i != largest:\n",
    "        nums[i], nums[largest] = nums[largest], nums[i]\n",
    "        heapify(nums, n, largest)\n",
    "    "
   ]
  },
  {
   "cell_type": "code",
   "execution_count": 54,
   "metadata": {},
   "outputs": [
    {
     "name": "stdout",
     "output_type": "stream",
     "text": [
      "[10, 7, 2, 3, 13, 9, 15]\n",
      "[15, 13, 10, 3, 7, 9, 2]\n",
      "[2, 3, 7, 9, 10, 13, 15]\n"
     ]
    }
   ],
   "source": [
    "def heapsort(nums):\n",
    "    \"\"\"\n",
    "    sort an array\n",
    "    \"\"\"\n",
    "    n = len(nums)\n",
    "    # max heap\n",
    "    for i in range(n, -1, -1):\n",
    "        heapify(nums, len(nums), i)\n",
    "    print(nums)\n",
    "    # swap element\n",
    "    for i in range(n-1, 0, -1):\n",
    "        nums[i], nums[0] = nums[0], nums[i]\n",
    "        heapify(nums, i, 0)\n",
    "        \n",
    "    return nums\n",
    "\n",
    "arr = [10, 7, 2, 3, 13, 9, 15]\n",
    "print(arr)\n",
    "print(heapsort(arr))"
   ]
  },
  {
   "cell_type": "code",
   "execution_count": null,
   "metadata": {},
   "outputs": [],
   "source": []
  }
 ],
 "metadata": {
  "kernelspec": {
   "display_name": "Python 3",
   "language": "python",
   "name": "python3"
  },
  "language_info": {
   "codemirror_mode": {
    "name": "ipython",
    "version": 3
   },
   "file_extension": ".py",
   "mimetype": "text/x-python",
   "name": "python",
   "nbconvert_exporter": "python",
   "pygments_lexer": "ipython3",
   "version": "3.7.5"
  }
 },
 "nbformat": 4,
 "nbformat_minor": 2
}
